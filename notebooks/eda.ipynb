{
 "cells": [
  {
   "attachments": {},
   "cell_type": "markdown",
   "metadata": {},
   "source": [
    "# EDA Notebook\n",
    "Goals: Explore the attributes of our datasets and identify any preprocessing steps needed. \n",
    "\n",
    "**Note**: This is an initial analysis of snapshots of our data. Ideally going forward we will want to utilize the developer APIs to query from the data"
   ]
  },
  {
   "attachments": {},
   "cell_type": "markdown",
   "metadata": {},
   "source": [
    "# Imports"
   ]
  },
  {
   "cell_type": "code",
   "execution_count": 33,
   "metadata": {},
   "outputs": [],
   "source": [
    "import pandas as pd\n",
    "import numpy as np\n",
    "import folium\n",
    "\n",
    "import matplotlib.pyplot as plt\n",
    "\n",
    "import seaborn as sns\n",
    "sns.set_theme()"
   ]
  },
  {
   "attachments": {},
   "cell_type": "markdown",
   "metadata": {},
   "source": [
    "# Dataset 1: Electric Charging Locations\n",
    "Downloaded data contains only electric charging data and is filtered to the state of California\n",
    "\n",
    "**Developer API**: https://developer.nrel.gov/docs/transportation/alt-fuel-stations-v1/"
   ]
  },
  {
   "cell_type": "code",
   "execution_count": 2,
   "metadata": {},
   "outputs": [],
   "source": [
    "dtype = {\"ZIP\": str}\n",
    "chargers = pd.read_csv('../data/alt_fuel_stations_Feb_2_2023.csv', dtype=dtype)"
   ]
  },
  {
   "cell_type": "code",
   "execution_count": 88,
   "metadata": {},
   "outputs": [
    {
     "data": {
      "text/plain": [
       "13873"
      ]
     },
     "execution_count": 88,
     "metadata": {},
     "output_type": "execute_result"
    }
   ],
   "source": [
    "len(chargers)"
   ]
  },
  {
   "cell_type": "code",
   "execution_count": 3,
   "metadata": {},
   "outputs": [
    {
     "name": "stdout",
     "output_type": "stream",
     "text": [
      "Fuel Type Code [0]\n",
      "Station Name [0]\n",
      "Street Address [0]\n",
      "Intersection Directions [13502]\n",
      "City [0]\n",
      "State [0]\n",
      "ZIP [0]\n",
      "Plus4 [13873]\n",
      "Station Phone [118]\n",
      "Status Code [0]\n",
      "Expected Date [13873]\n",
      "Groups With Access Code [0]\n",
      "Access Days Time [1171]\n",
      "Cards Accepted [13301]\n",
      "BD Blends [13873]\n",
      "NG Fill Type Code [13873]\n",
      "NG PSI [13873]\n",
      "EV Level1 EVSE Num [13832]\n",
      "EV Level2 EVSE Num [1463]\n",
      "EV DC Fast Count [12132]\n",
      "EV Other Info [13845]\n",
      "EV Network [0]\n",
      "EV Network Web [894]\n",
      "Geocode Status [0]\n",
      "Latitude [0]\n",
      "Longitude [0]\n",
      "Date Last Confirmed [18]\n",
      "ID [0]\n",
      "Updated At [0]\n",
      "Owner Type Code [11344]\n",
      "Federal Agency ID [13861]\n",
      "Federal Agency Name [13861]\n",
      "Open Date [2]\n",
      "Hydrogen Status Link [13873]\n",
      "NG Vehicle Class [13873]\n",
      "LPG Primary [13873]\n",
      "E85 Blender Pump [13873]\n",
      "EV Connector Types [14]\n",
      "Country [0]\n",
      "Intersection Directions (French) [13873]\n",
      "Access Days Time (French) [13873]\n",
      "BD Blends (French) [13873]\n",
      "Groups With Access Code (French) [0]\n",
      "Hydrogen Is Retail [13873]\n",
      "Access Code [0]\n",
      "Access Detail Code [13388]\n",
      "Federal Agency Code [13861]\n",
      "Facility Type [11546]\n",
      "CNG Dispenser Num [13873]\n",
      "CNG On-Site Renewable Source [13873]\n",
      "CNG Total Compression Capacity [13873]\n",
      "CNG Storage Capacity [13873]\n",
      "LNG On-Site Renewable Source [13873]\n",
      "E85 Other Ethanol Blends [13873]\n",
      "EV Pricing [11469]\n",
      "EV Pricing (French) [13873]\n",
      "LPG Nozzle Types [13873]\n",
      "Hydrogen Pressures [13873]\n",
      "Hydrogen Standards [13873]\n",
      "CNG Fill Type Code [13873]\n",
      "CNG PSI [13873]\n",
      "CNG Vehicle Class [13873]\n",
      "LNG Vehicle Class [13873]\n",
      "EV On-Site Renewable Source [13813]\n",
      "Restricted Access [12326]\n",
      "RD Blends [13873]\n",
      "RD Blends (French) [13873]\n",
      "RD Blended with Biodiesel [13873]\n",
      "RD Maximum Biodiesel Level [13873]\n"
     ]
    }
   ],
   "source": [
    "for k, v in pd.DataFrame(chargers.isna().sum()).iterrows():\n",
    "    print(k, v.values)"
   ]
  },
  {
   "cell_type": "code",
   "execution_count": 4,
   "metadata": {},
   "outputs": [
    {
     "data": {
      "text/plain": [
       "Index(['Fuel Type Code', 'Station Name', 'Street Address',\n",
       "       'Intersection Directions', 'City', 'State', 'ZIP', 'Plus4',\n",
       "       'Station Phone', 'Status Code', 'Expected Date',\n",
       "       'Groups With Access Code', 'Access Days Time', 'Cards Accepted',\n",
       "       'BD Blends', 'NG Fill Type Code', 'NG PSI', 'EV Level1 EVSE Num',\n",
       "       'EV Level2 EVSE Num', 'EV DC Fast Count', 'EV Other Info', 'EV Network',\n",
       "       'EV Network Web', 'Geocode Status', 'Latitude', 'Longitude',\n",
       "       'Date Last Confirmed', 'ID', 'Updated At', 'Owner Type Code',\n",
       "       'Federal Agency ID', 'Federal Agency Name', 'Open Date',\n",
       "       'Hydrogen Status Link', 'NG Vehicle Class', 'LPG Primary',\n",
       "       'E85 Blender Pump', 'EV Connector Types', 'Country',\n",
       "       'Intersection Directions (French)', 'Access Days Time (French)',\n",
       "       'BD Blends (French)', 'Groups With Access Code (French)',\n",
       "       'Hydrogen Is Retail', 'Access Code', 'Access Detail Code',\n",
       "       'Federal Agency Code', 'Facility Type', 'CNG Dispenser Num',\n",
       "       'CNG On-Site Renewable Source', 'CNG Total Compression Capacity',\n",
       "       'CNG Storage Capacity', 'LNG On-Site Renewable Source',\n",
       "       'E85 Other Ethanol Blends', 'EV Pricing', 'EV Pricing (French)',\n",
       "       'LPG Nozzle Types', 'Hydrogen Pressures', 'Hydrogen Standards',\n",
       "       'CNG Fill Type Code', 'CNG PSI', 'CNG Vehicle Class',\n",
       "       'LNG Vehicle Class', 'EV On-Site Renewable Source', 'Restricted Access',\n",
       "       'RD Blends', 'RD Blends (French)', 'RD Blended with Biodiesel',\n",
       "       'RD Maximum Biodiesel Level'],\n",
       "      dtype='object')"
      ]
     },
     "execution_count": 4,
     "metadata": {},
     "output_type": "execute_result"
    }
   ],
   "source": [
    "chargers.columns"
   ]
  },
  {
   "cell_type": "code",
   "execution_count": 6,
   "metadata": {},
   "outputs": [
    {
     "data": {
      "text/html": [
       "<div>\n",
       "<style scoped>\n",
       "    .dataframe tbody tr th:only-of-type {\n",
       "        vertical-align: middle;\n",
       "    }\n",
       "\n",
       "    .dataframe tbody tr th {\n",
       "        vertical-align: top;\n",
       "    }\n",
       "\n",
       "    .dataframe thead th {\n",
       "        text-align: right;\n",
       "    }\n",
       "</style>\n",
       "<table border=\"1\" class=\"dataframe\">\n",
       "  <thead>\n",
       "    <tr style=\"text-align: right;\">\n",
       "      <th></th>\n",
       "      <th>Fuel Type Code</th>\n",
       "      <th>Station Name</th>\n",
       "      <th>Street Address</th>\n",
       "      <th>Intersection Directions</th>\n",
       "      <th>City</th>\n",
       "      <th>State</th>\n",
       "      <th>ZIP</th>\n",
       "      <th>Plus4</th>\n",
       "      <th>Station Phone</th>\n",
       "      <th>Status Code</th>\n",
       "      <th>...</th>\n",
       "      <th>CNG Fill Type Code</th>\n",
       "      <th>CNG PSI</th>\n",
       "      <th>CNG Vehicle Class</th>\n",
       "      <th>LNG Vehicle Class</th>\n",
       "      <th>EV On-Site Renewable Source</th>\n",
       "      <th>Restricted Access</th>\n",
       "      <th>RD Blends</th>\n",
       "      <th>RD Blends (French)</th>\n",
       "      <th>RD Blended with Biodiesel</th>\n",
       "      <th>RD Maximum Biodiesel Level</th>\n",
       "    </tr>\n",
       "  </thead>\n",
       "  <tbody>\n",
       "    <tr>\n",
       "      <th>0</th>\n",
       "      <td>ELEC</td>\n",
       "      <td>Los Angeles Convention Center</td>\n",
       "      <td>1201 S Figueroa St</td>\n",
       "      <td>West hall and South hall</td>\n",
       "      <td>Los Angeles</td>\n",
       "      <td>CA</td>\n",
       "      <td>90015</td>\n",
       "      <td>NaN</td>\n",
       "      <td>213-741-1151</td>\n",
       "      <td>E</td>\n",
       "      <td>...</td>\n",
       "      <td>NaN</td>\n",
       "      <td>NaN</td>\n",
       "      <td>NaN</td>\n",
       "      <td>NaN</td>\n",
       "      <td>NaN</td>\n",
       "      <td>False</td>\n",
       "      <td>NaN</td>\n",
       "      <td>NaN</td>\n",
       "      <td>NaN</td>\n",
       "      <td>NaN</td>\n",
       "    </tr>\n",
       "    <tr>\n",
       "      <th>1</th>\n",
       "      <td>ELEC</td>\n",
       "      <td>California Air Resources Board</td>\n",
       "      <td>9530 Telstar Ave</td>\n",
       "      <td>NaN</td>\n",
       "      <td>El Monte</td>\n",
       "      <td>CA</td>\n",
       "      <td>91731</td>\n",
       "      <td>NaN</td>\n",
       "      <td>626-575-6800</td>\n",
       "      <td>E</td>\n",
       "      <td>...</td>\n",
       "      <td>NaN</td>\n",
       "      <td>NaN</td>\n",
       "      <td>NaN</td>\n",
       "      <td>NaN</td>\n",
       "      <td>NaN</td>\n",
       "      <td>False</td>\n",
       "      <td>NaN</td>\n",
       "      <td>NaN</td>\n",
       "      <td>NaN</td>\n",
       "      <td>NaN</td>\n",
       "    </tr>\n",
       "    <tr>\n",
       "      <th>2</th>\n",
       "      <td>ELEC</td>\n",
       "      <td>Scripps Green Hospital</td>\n",
       "      <td>10666 N Torrey Pines Rd</td>\n",
       "      <td>Patient Parking Structure, level G</td>\n",
       "      <td>La Jolla</td>\n",
       "      <td>CA</td>\n",
       "      <td>92037</td>\n",
       "      <td>NaN</td>\n",
       "      <td>NaN</td>\n",
       "      <td>E</td>\n",
       "      <td>...</td>\n",
       "      <td>NaN</td>\n",
       "      <td>NaN</td>\n",
       "      <td>NaN</td>\n",
       "      <td>NaN</td>\n",
       "      <td>NaN</td>\n",
       "      <td>False</td>\n",
       "      <td>NaN</td>\n",
       "      <td>NaN</td>\n",
       "      <td>NaN</td>\n",
       "      <td>NaN</td>\n",
       "    </tr>\n",
       "    <tr>\n",
       "      <th>3</th>\n",
       "      <td>ELEC</td>\n",
       "      <td>Galpin Motors</td>\n",
       "      <td>15421 Roscoe Blvd</td>\n",
       "      <td>NaN</td>\n",
       "      <td>Sepulveda</td>\n",
       "      <td>CA</td>\n",
       "      <td>91343</td>\n",
       "      <td>NaN</td>\n",
       "      <td>800-256-6219</td>\n",
       "      <td>E</td>\n",
       "      <td>...</td>\n",
       "      <td>NaN</td>\n",
       "      <td>NaN</td>\n",
       "      <td>NaN</td>\n",
       "      <td>NaN</td>\n",
       "      <td>NaN</td>\n",
       "      <td>False</td>\n",
       "      <td>NaN</td>\n",
       "      <td>NaN</td>\n",
       "      <td>NaN</td>\n",
       "      <td>NaN</td>\n",
       "    </tr>\n",
       "    <tr>\n",
       "      <th>4</th>\n",
       "      <td>ELEC</td>\n",
       "      <td>Galleria at Tyler</td>\n",
       "      <td>1299 Galleria at Tyler</td>\n",
       "      <td>NaN</td>\n",
       "      <td>Riverside</td>\n",
       "      <td>CA</td>\n",
       "      <td>92503</td>\n",
       "      <td>NaN</td>\n",
       "      <td>951-351-3110</td>\n",
       "      <td>E</td>\n",
       "      <td>...</td>\n",
       "      <td>NaN</td>\n",
       "      <td>NaN</td>\n",
       "      <td>NaN</td>\n",
       "      <td>NaN</td>\n",
       "      <td>NaN</td>\n",
       "      <td>False</td>\n",
       "      <td>NaN</td>\n",
       "      <td>NaN</td>\n",
       "      <td>NaN</td>\n",
       "      <td>NaN</td>\n",
       "    </tr>\n",
       "  </tbody>\n",
       "</table>\n",
       "<p>5 rows × 69 columns</p>\n",
       "</div>"
      ],
      "text/plain": [
       "  Fuel Type Code                    Station Name           Street Address  \\\n",
       "0           ELEC   Los Angeles Convention Center       1201 S Figueroa St   \n",
       "1           ELEC  California Air Resources Board         9530 Telstar Ave   \n",
       "2           ELEC          Scripps Green Hospital  10666 N Torrey Pines Rd   \n",
       "3           ELEC                   Galpin Motors        15421 Roscoe Blvd   \n",
       "4           ELEC               Galleria at Tyler   1299 Galleria at Tyler   \n",
       "\n",
       "              Intersection Directions         City State    ZIP  Plus4  \\\n",
       "0            West hall and South hall  Los Angeles    CA  90015    NaN   \n",
       "1                                 NaN     El Monte    CA  91731    NaN   \n",
       "2  Patient Parking Structure, level G     La Jolla    CA  92037    NaN   \n",
       "3                                 NaN    Sepulveda    CA  91343    NaN   \n",
       "4                                 NaN    Riverside    CA  92503    NaN   \n",
       "\n",
       "  Station Phone Status Code  ...  CNG Fill Type Code CNG PSI  \\\n",
       "0  213-741-1151           E  ...                 NaN     NaN   \n",
       "1  626-575-6800           E  ...                 NaN     NaN   \n",
       "2           NaN           E  ...                 NaN     NaN   \n",
       "3  800-256-6219           E  ...                 NaN     NaN   \n",
       "4  951-351-3110           E  ...                 NaN     NaN   \n",
       "\n",
       "  CNG Vehicle Class LNG Vehicle Class  EV On-Site Renewable Source  \\\n",
       "0               NaN               NaN                          NaN   \n",
       "1               NaN               NaN                          NaN   \n",
       "2               NaN               NaN                          NaN   \n",
       "3               NaN               NaN                          NaN   \n",
       "4               NaN               NaN                          NaN   \n",
       "\n",
       "   Restricted Access  RD Blends  RD Blends (French)  \\\n",
       "0              False        NaN                 NaN   \n",
       "1              False        NaN                 NaN   \n",
       "2              False        NaN                 NaN   \n",
       "3              False        NaN                 NaN   \n",
       "4              False        NaN                 NaN   \n",
       "\n",
       "   RD Blended with Biodiesel  RD Maximum Biodiesel Level  \n",
       "0                        NaN                         NaN  \n",
       "1                        NaN                         NaN  \n",
       "2                        NaN                         NaN  \n",
       "3                        NaN                         NaN  \n",
       "4                        NaN                         NaN  \n",
       "\n",
       "[5 rows x 69 columns]"
      ]
     },
     "execution_count": 6,
     "metadata": {},
     "output_type": "execute_result"
    }
   ],
   "source": [
    "chargers.head()"
   ]
  },
  {
   "cell_type": "code",
   "execution_count": 7,
   "metadata": {},
   "outputs": [
    {
     "data": {
      "text/plain": [
       "array(['E'], dtype=object)"
      ]
     },
     "execution_count": 7,
     "metadata": {},
     "output_type": "execute_result"
    }
   ],
   "source": [
    "chargers['Status Code'].unique()"
   ]
  },
  {
   "cell_type": "code",
   "execution_count": 8,
   "metadata": {},
   "outputs": [],
   "source": [
    "# -118.951721\t32.75004\t-117.646374\t34.823302\n",
    "la_bb = ((-118.951721, -117.646374),\n",
    "         (32.75004, 34.823302))"
   ]
  },
  {
   "cell_type": "code",
   "execution_count": 9,
   "metadata": {},
   "outputs": [
    {
     "data": {
      "text/html": [
       "<div>\n",
       "<style scoped>\n",
       "    .dataframe tbody tr th:only-of-type {\n",
       "        vertical-align: middle;\n",
       "    }\n",
       "\n",
       "    .dataframe tbody tr th {\n",
       "        vertical-align: top;\n",
       "    }\n",
       "\n",
       "    .dataframe thead th {\n",
       "        text-align: right;\n",
       "    }\n",
       "</style>\n",
       "<table border=\"1\" class=\"dataframe\">\n",
       "  <thead>\n",
       "    <tr style=\"text-align: right;\">\n",
       "      <th></th>\n",
       "      <th>ID</th>\n",
       "      <th>Latitude</th>\n",
       "      <th>Longitude</th>\n",
       "    </tr>\n",
       "  </thead>\n",
       "  <tbody>\n",
       "    <tr>\n",
       "      <th>0</th>\n",
       "      <td>1523</td>\n",
       "      <td>34.040539</td>\n",
       "      <td>-118.271387</td>\n",
       "    </tr>\n",
       "    <tr>\n",
       "      <th>1</th>\n",
       "      <td>1583</td>\n",
       "      <td>34.068720</td>\n",
       "      <td>-118.064000</td>\n",
       "    </tr>\n",
       "    <tr>\n",
       "      <th>2</th>\n",
       "      <td>6355</td>\n",
       "      <td>32.899470</td>\n",
       "      <td>-117.243000</td>\n",
       "    </tr>\n",
       "    <tr>\n",
       "      <th>3</th>\n",
       "      <td>6405</td>\n",
       "      <td>34.221665</td>\n",
       "      <td>-118.468371</td>\n",
       "    </tr>\n",
       "    <tr>\n",
       "      <th>4</th>\n",
       "      <td>6425</td>\n",
       "      <td>33.909914</td>\n",
       "      <td>-117.459053</td>\n",
       "    </tr>\n",
       "  </tbody>\n",
       "</table>\n",
       "</div>"
      ],
      "text/plain": [
       "     ID   Latitude   Longitude\n",
       "0  1523  34.040539 -118.271387\n",
       "1  1583  34.068720 -118.064000\n",
       "2  6355  32.899470 -117.243000\n",
       "3  6405  34.221665 -118.468371\n",
       "4  6425  33.909914 -117.459053"
      ]
     },
     "execution_count": 9,
     "metadata": {},
     "output_type": "execute_result"
    }
   ],
   "source": [
    "coords = chargers[['ID', 'Latitude', 'Longitude']].copy()\n",
    "coords.head()"
   ]
  },
  {
   "cell_type": "code",
   "execution_count": 91,
   "metadata": {},
   "outputs": [
    {
     "data": {
      "image/png": "[encoded data removed]",
      "text/plain": [
       "<Figure size 640x480 with 1 Axes>"
      ]
     },
     "metadata": {},
     "output_type": "display_data"
    }
   ],
   "source": [
    "sns.boxplot(data=coords, y='Latitude')\n",
    "plt.show()"
   ]
  },
  {
   "cell_type": "code",
   "execution_count": 98,
   "metadata": {},
   "outputs": [],
   "source": [
    "top_20_cities = chargers.groupby('City')['ID'].count().sort_values(ascending=False)[:20]"
   ]
  },
  {
   "cell_type": "code",
   "execution_count": 103,
   "metadata": {},
   "outputs": [
    {
     "data": {
      "image/png": "[encoded data removed]",
      "text/plain": [
       "<Figure size 640x480 with 1 Axes>"
      ]
     },
     "metadata": {},
     "output_type": "display_data"
    }
   ],
   "source": [
    "sns.barplot(x=top_20_cities, y=top_20_cities.index).set(xlabel='Charger Count', title='Charger Counts by City')\n",
    "plt.show()"
   ]
  },
  {
   "cell_type": "code",
   "execution_count": 90,
   "metadata": {},
   "outputs": [
    {
     "data": {
      "text/plain": [
       "count    13873.000000\n",
       "mean        35.693849\n",
       "std          2.096940\n",
       "min          1.000000\n",
       "25%         33.904510\n",
       "50%         34.496216\n",
       "75%         37.587126\n",
       "max         41.956729\n",
       "Name: Latitude, dtype: float64"
      ]
     },
     "execution_count": 90,
     "metadata": {},
     "output_type": "execute_result"
    }
   ],
   "source": [
    "chargers.Latitude.describe()"
   ]
  },
  {
   "cell_type": "code",
   "execution_count": null,
   "metadata": {},
   "outputs": [],
   "source": [
    "# CA (rough) bounding box\n",
    "\n",
    "lat = (32.538, 42.057)\n",
    "long = (-124.706, -114.104)"
   ]
  },
  {
   "cell_type": "code",
   "execution_count": 10,
   "metadata": {},
   "outputs": [],
   "source": [
    "map = folium.Map(location=[34.052235, -118.243683])\n",
    "\n",
    "coords_list = coords.values.tolist()\n",
    "\n",
    "for i in coords_list:\n",
    "    id = i[0]\n",
    "    lat = i[1]\n",
    "    long = i[2]\n",
    "\n",
    "    if ((lat >= la_bb[1][0]) and (lat <= la_bb[1][1])) and ((long >= la_bb[0][0] and (long <= la_bb[0][1]))):\n",
    "        map.add_child(folium.Marker(location=[lat, long], popup=id))\n",
    "\n"
   ]
  },
  {
   "cell_type": "code",
   "execution_count": 12,
   "metadata": {},
   "outputs": [],
   "source": [
    "# ma"
   ]
  },
  {
   "attachments": {},
   "cell_type": "markdown",
   "metadata": {},
   "source": [
    "# Dataset 2: EV Sales"
   ]
  },
  {
   "cell_type": "code",
   "execution_count": 13,
   "metadata": {},
   "outputs": [
    {
     "data": {
      "text/html": [
       "<div>\n",
       "<style scoped>\n",
       "    .dataframe tbody tr th:only-of-type {\n",
       "        vertical-align: middle;\n",
       "    }\n",
       "\n",
       "    .dataframe tbody tr th {\n",
       "        vertical-align: top;\n",
       "    }\n",
       "\n",
       "    .dataframe thead th {\n",
       "        text-align: right;\n",
       "    }\n",
       "</style>\n",
       "<table border=\"1\" class=\"dataframe\">\n",
       "  <thead>\n",
       "    <tr style=\"text-align: right;\">\n",
       "      <th></th>\n",
       "      <th>Data Year</th>\n",
       "      <th>County</th>\n",
       "      <th>FUEL_TYPE</th>\n",
       "      <th>MAKE</th>\n",
       "      <th>MODEL</th>\n",
       "      <th>Number of Vehicles</th>\n",
       "    </tr>\n",
       "  </thead>\n",
       "  <tbody>\n",
       "    <tr>\n",
       "      <th>0</th>\n",
       "      <td>1998</td>\n",
       "      <td>Los Angeles</td>\n",
       "      <td>Electric</td>\n",
       "      <td>Ford</td>\n",
       "      <td>Ranger</td>\n",
       "      <td>1</td>\n",
       "    </tr>\n",
       "    <tr>\n",
       "      <th>1</th>\n",
       "      <td>1998</td>\n",
       "      <td>Orange</td>\n",
       "      <td>Electric</td>\n",
       "      <td>Ford</td>\n",
       "      <td>Ranger</td>\n",
       "      <td>1</td>\n",
       "    </tr>\n",
       "    <tr>\n",
       "      <th>2</th>\n",
       "      <td>1998</td>\n",
       "      <td>San Bernardino</td>\n",
       "      <td>Electric</td>\n",
       "      <td>Ford</td>\n",
       "      <td>Ranger</td>\n",
       "      <td>2</td>\n",
       "    </tr>\n",
       "    <tr>\n",
       "      <th>3</th>\n",
       "      <td>1998</td>\n",
       "      <td>San Mateo</td>\n",
       "      <td>Electric</td>\n",
       "      <td>Ford</td>\n",
       "      <td>Ranger</td>\n",
       "      <td>1</td>\n",
       "    </tr>\n",
       "    <tr>\n",
       "      <th>4</th>\n",
       "      <td>1999</td>\n",
       "      <td>Santa Barbara</td>\n",
       "      <td>Electric</td>\n",
       "      <td>Ford</td>\n",
       "      <td>Ranger</td>\n",
       "      <td>1</td>\n",
       "    </tr>\n",
       "    <tr>\n",
       "      <th>...</th>\n",
       "      <td>...</td>\n",
       "      <td>...</td>\n",
       "      <td>...</td>\n",
       "      <td>...</td>\n",
       "      <td>...</td>\n",
       "      <td>...</td>\n",
       "    </tr>\n",
       "    <tr>\n",
       "      <th>15586</th>\n",
       "      <td>2022</td>\n",
       "      <td>Yuba</td>\n",
       "      <td>PHEV</td>\n",
       "      <td>Kia</td>\n",
       "      <td>Sorento PHEV</td>\n",
       "      <td>4</td>\n",
       "    </tr>\n",
       "    <tr>\n",
       "      <th>15587</th>\n",
       "      <td>2022</td>\n",
       "      <td>Yuba</td>\n",
       "      <td>PHEV</td>\n",
       "      <td>Toyota</td>\n",
       "      <td>Prius Prime</td>\n",
       "      <td>10</td>\n",
       "    </tr>\n",
       "    <tr>\n",
       "      <th>15588</th>\n",
       "      <td>2022</td>\n",
       "      <td>Yuba</td>\n",
       "      <td>PHEV</td>\n",
       "      <td>Toyota</td>\n",
       "      <td>RAV4 Prime</td>\n",
       "      <td>6</td>\n",
       "    </tr>\n",
       "    <tr>\n",
       "      <th>15589</th>\n",
       "      <td>2022</td>\n",
       "      <td>Yuba</td>\n",
       "      <td>PHEV</td>\n",
       "      <td>Volvo</td>\n",
       "      <td>XC60 Recharge</td>\n",
       "      <td>1</td>\n",
       "    </tr>\n",
       "    <tr>\n",
       "      <th>15590</th>\n",
       "      <td>2022</td>\n",
       "      <td>Yuba</td>\n",
       "      <td>Hydrogen</td>\n",
       "      <td>Toyota</td>\n",
       "      <td>Mirai</td>\n",
       "      <td>2</td>\n",
       "    </tr>\n",
       "  </tbody>\n",
       "</table>\n",
       "<p>15591 rows × 6 columns</p>\n",
       "</div>"
      ],
      "text/plain": [
       "       Data Year          County FUEL_TYPE    MAKE          MODEL  \\\n",
       "0           1998     Los Angeles  Electric    Ford         Ranger   \n",
       "1           1998          Orange  Electric    Ford         Ranger   \n",
       "2           1998  San Bernardino  Electric    Ford         Ranger   \n",
       "3           1998       San Mateo  Electric    Ford         Ranger   \n",
       "4           1999   Santa Barbara  Electric    Ford         Ranger   \n",
       "...          ...             ...       ...     ...            ...   \n",
       "15586       2022            Yuba      PHEV     Kia   Sorento PHEV   \n",
       "15587       2022            Yuba      PHEV  Toyota    Prius Prime   \n",
       "15588       2022            Yuba      PHEV  Toyota     RAV4 Prime   \n",
       "15589       2022            Yuba      PHEV   Volvo  XC60 Recharge   \n",
       "15590       2022            Yuba  Hydrogen  Toyota          Mirai   \n",
       "\n",
       "       Number of Vehicles  \n",
       "0                       1  \n",
       "1                       1  \n",
       "2                       2  \n",
       "3                       1  \n",
       "4                       1  \n",
       "...                   ...  \n",
       "15586                   4  \n",
       "15587                  10  \n",
       "15588                   6  \n",
       "15589                   1  \n",
       "15590                   2  \n",
       "\n",
       "[15591 rows x 6 columns]"
      ]
     },
     "execution_count": 13,
     "metadata": {},
     "output_type": "execute_result"
    }
   ],
   "source": [
    "sales = pd.read_excel('../data/New_ZEV_Sales_Last_updated_01-18-2023.xlsx', sheet_name='County')\n",
    "sales"
   ]
  },
  {
   "cell_type": "code",
   "execution_count": null,
   "metadata": {},
   "outputs": [],
   "source": [
    "sales = "
   ]
  },
  {
   "cell_type": "code",
   "execution_count": 24,
   "metadata": {},
   "outputs": [
    {
     "data": {
      "text/plain": [
       "Data Year\n",
       "1998    5\n",
       "1999    1\n",
       "Name: Number of Vehicles, dtype: int64"
      ]
     },
     "execution_count": 24,
     "metadata": {},
     "output_type": "execute_result"
    }
   ],
   "source": [
    "sales_by_year = sales.groupby('Data Year')['Number of Vehicles'].sum()\n",
    "sales_by_year.head(2)"
   ]
  },
  {
   "cell_type": "code",
   "execution_count": 31,
   "metadata": {},
   "outputs": [
    {
     "data": {
      "text/plain": [
       "Int64Index([1998, 1999, 2000, 2001, 2002, 2003, 2004, 2005, 2006, 2009, 2010,\n",
       "            2011, 2012, 2013, 2014, 2015, 2016, 2017, 2018, 2019, 2020, 2021,\n",
       "            2022],\n",
       "           dtype='int64', name='Data Year')"
      ]
     },
     "execution_count": 31,
     "metadata": {},
     "output_type": "execute_result"
    }
   ],
   "source": [
    "sales_by_year.index"
   ]
  },
  {
   "cell_type": "code",
   "execution_count": 36,
   "metadata": {},
   "outputs": [
    {
     "data": {
      "image/png": "[encoded data removed]",
      "text/plain": [
       "<Figure size 640x480 with 1 Axes>"
      ]
     },
     "metadata": {},
     "output_type": "display_data"
    }
   ],
   "source": [
    "sns.lineplot(x=sales_by_year.index, y=sales_by_year).set(title='CA EV Sales Over Time')\n",
    "\n",
    "plt.show()"
   ]
  },
  {
   "cell_type": "code",
   "execution_count": 37,
   "metadata": {},
   "outputs": [
    {
     "data": {
      "text/html": [
       "<div>\n",
       "<style scoped>\n",
       "    .dataframe tbody tr th:only-of-type {\n",
       "        vertical-align: middle;\n",
       "    }\n",
       "\n",
       "    .dataframe tbody tr th {\n",
       "        vertical-align: top;\n",
       "    }\n",
       "\n",
       "    .dataframe thead th {\n",
       "        text-align: right;\n",
       "    }\n",
       "</style>\n",
       "<table border=\"1\" class=\"dataframe\">\n",
       "  <thead>\n",
       "    <tr style=\"text-align: right;\">\n",
       "      <th></th>\n",
       "      <th>Data Year</th>\n",
       "      <th>County</th>\n",
       "      <th>FUEL_TYPE</th>\n",
       "      <th>MAKE</th>\n",
       "      <th>MODEL</th>\n",
       "      <th>Number of Vehicles</th>\n",
       "    </tr>\n",
       "  </thead>\n",
       "  <tbody>\n",
       "    <tr>\n",
       "      <th>0</th>\n",
       "      <td>1998</td>\n",
       "      <td>Los Angeles</td>\n",
       "      <td>Electric</td>\n",
       "      <td>Ford</td>\n",
       "      <td>Ranger</td>\n",
       "      <td>1</td>\n",
       "    </tr>\n",
       "    <tr>\n",
       "      <th>1</th>\n",
       "      <td>1998</td>\n",
       "      <td>Orange</td>\n",
       "      <td>Electric</td>\n",
       "      <td>Ford</td>\n",
       "      <td>Ranger</td>\n",
       "      <td>1</td>\n",
       "    </tr>\n",
       "    <tr>\n",
       "      <th>2</th>\n",
       "      <td>1998</td>\n",
       "      <td>San Bernardino</td>\n",
       "      <td>Electric</td>\n",
       "      <td>Ford</td>\n",
       "      <td>Ranger</td>\n",
       "      <td>2</td>\n",
       "    </tr>\n",
       "    <tr>\n",
       "      <th>3</th>\n",
       "      <td>1998</td>\n",
       "      <td>San Mateo</td>\n",
       "      <td>Electric</td>\n",
       "      <td>Ford</td>\n",
       "      <td>Ranger</td>\n",
       "      <td>1</td>\n",
       "    </tr>\n",
       "    <tr>\n",
       "      <th>4</th>\n",
       "      <td>1999</td>\n",
       "      <td>Santa Barbara</td>\n",
       "      <td>Electric</td>\n",
       "      <td>Ford</td>\n",
       "      <td>Ranger</td>\n",
       "      <td>1</td>\n",
       "    </tr>\n",
       "  </tbody>\n",
       "</table>\n",
       "</div>"
      ],
      "text/plain": [
       "   Data Year          County FUEL_TYPE  MAKE   MODEL  Number of Vehicles\n",
       "0       1998     Los Angeles  Electric  Ford  Ranger                   1\n",
       "1       1998          Orange  Electric  Ford  Ranger                   1\n",
       "2       1998  San Bernardino  Electric  Ford  Ranger                   2\n",
       "3       1998       San Mateo  Electric  Ford  Ranger                   1\n",
       "4       1999   Santa Barbara  Electric  Ford  Ranger                   1"
      ]
     },
     "execution_count": 37,
     "metadata": {},
     "output_type": "execute_result"
    }
   ],
   "source": [
    "sales.head()"
   ]
  },
  {
   "cell_type": "code",
   "execution_count": 49,
   "metadata": {},
   "outputs": [
    {
     "data": {
      "text/plain": [
       "County\n",
       "Los Angeles       377617\n",
       "Orange            175707\n",
       "Santa Clara       162030\n",
       "San Diego         112292\n",
       "Alameda            96860\n",
       "San Mateo          56625\n",
       "Contra Costa       53285\n",
       "Riverside          50218\n",
       "San Bernardino     39395\n",
       "San Francisco      36505\n",
       "Sacramento         31376\n",
       "Ventura            28861\n",
       "Marin              20142\n",
       "Sonoma             16811\n",
       "San Joaquin        13287\n",
       "Out Of State       13021\n",
       "Placer             12912\n",
       "Fresno             12233\n",
       "Santa Barbara      10065\n",
       "Solano              9685\n",
       "Name: Number of Vehicles, dtype: int64"
      ]
     },
     "execution_count": 49,
     "metadata": {},
     "output_type": "execute_result"
    }
   ],
   "source": [
    "top_ten_counties = sales.groupby('County')['Number of Vehicles'].sum().sort_values(ascending=False)[:20]\n",
    "top_ten_counties"
   ]
  },
  {
   "cell_type": "code",
   "execution_count": 52,
   "metadata": {},
   "outputs": [
    {
     "data": {
      "image/png": "[encoded data removed]",
      "text/plain": [
       "<Figure size 640x480 with 1 Axes>"
      ]
     },
     "metadata": {},
     "output_type": "display_data"
    }
   ],
   "source": [
    "sns.barplot(x=top_ten_counties, y=top_ten_counties.index).set(title='Top 20 Counties for EV Sales')\n",
    "plt.show()"
   ]
  },
  {
   "cell_type": "code",
   "execution_count": 66,
   "metadata": {},
   "outputs": [
    {
     "data": {
      "text/html": [
       "<div>\n",
       "<style scoped>\n",
       "    .dataframe tbody tr th:only-of-type {\n",
       "        vertical-align: middle;\n",
       "    }\n",
       "\n",
       "    .dataframe tbody tr th {\n",
       "        vertical-align: top;\n",
       "    }\n",
       "\n",
       "    .dataframe thead th {\n",
       "        text-align: right;\n",
       "    }\n",
       "</style>\n",
       "<table border=\"1\" class=\"dataframe\">\n",
       "  <thead>\n",
       "    <tr style=\"text-align: right;\">\n",
       "      <th></th>\n",
       "      <th>Data Year</th>\n",
       "      <th>County</th>\n",
       "      <th>FUEL_TYPE</th>\n",
       "      <th>MAKE</th>\n",
       "      <th>MODEL</th>\n",
       "      <th>Number of Vehicles</th>\n",
       "    </tr>\n",
       "  </thead>\n",
       "  <tbody>\n",
       "    <tr>\n",
       "      <th>0</th>\n",
       "      <td>1998</td>\n",
       "      <td>Los Angeles</td>\n",
       "      <td>Electric</td>\n",
       "      <td>Ford</td>\n",
       "      <td>Ranger</td>\n",
       "      <td>1</td>\n",
       "    </tr>\n",
       "    <tr>\n",
       "      <th>1</th>\n",
       "      <td>1998</td>\n",
       "      <td>Orange</td>\n",
       "      <td>Electric</td>\n",
       "      <td>Ford</td>\n",
       "      <td>Ranger</td>\n",
       "      <td>1</td>\n",
       "    </tr>\n",
       "    <tr>\n",
       "      <th>2</th>\n",
       "      <td>1998</td>\n",
       "      <td>San Bernardino</td>\n",
       "      <td>Electric</td>\n",
       "      <td>Ford</td>\n",
       "      <td>Ranger</td>\n",
       "      <td>2</td>\n",
       "    </tr>\n",
       "    <tr>\n",
       "      <th>3</th>\n",
       "      <td>1998</td>\n",
       "      <td>San Mateo</td>\n",
       "      <td>Electric</td>\n",
       "      <td>Ford</td>\n",
       "      <td>Ranger</td>\n",
       "      <td>1</td>\n",
       "    </tr>\n",
       "    <tr>\n",
       "      <th>4</th>\n",
       "      <td>1999</td>\n",
       "      <td>Santa Barbara</td>\n",
       "      <td>Electric</td>\n",
       "      <td>Ford</td>\n",
       "      <td>Ranger</td>\n",
       "      <td>1</td>\n",
       "    </tr>\n",
       "    <tr>\n",
       "      <th>...</th>\n",
       "      <td>...</td>\n",
       "      <td>...</td>\n",
       "      <td>...</td>\n",
       "      <td>...</td>\n",
       "      <td>...</td>\n",
       "      <td>...</td>\n",
       "    </tr>\n",
       "    <tr>\n",
       "      <th>15586</th>\n",
       "      <td>2022</td>\n",
       "      <td>Yuba</td>\n",
       "      <td>PHEV</td>\n",
       "      <td>Kia</td>\n",
       "      <td>Sorento PHEV</td>\n",
       "      <td>4</td>\n",
       "    </tr>\n",
       "    <tr>\n",
       "      <th>15587</th>\n",
       "      <td>2022</td>\n",
       "      <td>Yuba</td>\n",
       "      <td>PHEV</td>\n",
       "      <td>Toyota</td>\n",
       "      <td>Prius Prime</td>\n",
       "      <td>10</td>\n",
       "    </tr>\n",
       "    <tr>\n",
       "      <th>15588</th>\n",
       "      <td>2022</td>\n",
       "      <td>Yuba</td>\n",
       "      <td>PHEV</td>\n",
       "      <td>Toyota</td>\n",
       "      <td>RAV4 Prime</td>\n",
       "      <td>6</td>\n",
       "    </tr>\n",
       "    <tr>\n",
       "      <th>15589</th>\n",
       "      <td>2022</td>\n",
       "      <td>Yuba</td>\n",
       "      <td>PHEV</td>\n",
       "      <td>Volvo</td>\n",
       "      <td>XC60 Recharge</td>\n",
       "      <td>1</td>\n",
       "    </tr>\n",
       "    <tr>\n",
       "      <th>15590</th>\n",
       "      <td>2022</td>\n",
       "      <td>Yuba</td>\n",
       "      <td>Hydrogen</td>\n",
       "      <td>Toyota</td>\n",
       "      <td>Mirai</td>\n",
       "      <td>2</td>\n",
       "    </tr>\n",
       "  </tbody>\n",
       "</table>\n",
       "<p>15591 rows × 6 columns</p>\n",
       "</div>"
      ],
      "text/plain": [
       "       Data Year          County FUEL_TYPE    MAKE          MODEL  \\\n",
       "0           1998     Los Angeles  Electric    Ford         Ranger   \n",
       "1           1998          Orange  Electric    Ford         Ranger   \n",
       "2           1998  San Bernardino  Electric    Ford         Ranger   \n",
       "3           1998       San Mateo  Electric    Ford         Ranger   \n",
       "4           1999   Santa Barbara  Electric    Ford         Ranger   \n",
       "...          ...             ...       ...     ...            ...   \n",
       "15586       2022            Yuba      PHEV     Kia   Sorento PHEV   \n",
       "15587       2022            Yuba      PHEV  Toyota    Prius Prime   \n",
       "15588       2022            Yuba      PHEV  Toyota     RAV4 Prime   \n",
       "15589       2022            Yuba      PHEV   Volvo  XC60 Recharge   \n",
       "15590       2022            Yuba  Hydrogen  Toyota          Mirai   \n",
       "\n",
       "       Number of Vehicles  \n",
       "0                       1  \n",
       "1                       1  \n",
       "2                       2  \n",
       "3                       1  \n",
       "4                       1  \n",
       "...                   ...  \n",
       "15586                   4  \n",
       "15587                  10  \n",
       "15588                   6  \n",
       "15589                   1  \n",
       "15590                   2  \n",
       "\n",
       "[15591 rows x 6 columns]"
      ]
     },
     "execution_count": 66,
     "metadata": {},
     "output_type": "execute_result"
    }
   ],
   "source": [
    "sales"
   ]
  },
  {
   "cell_type": "code",
   "execution_count": 54,
   "metadata": {},
   "outputs": [
    {
     "data": {
      "text/plain": [
       "array(['Ford', 'Tesla', 'MINI', 'Honda', 'Chevrolet', 'Toyota', 'Nissan',\n",
       "       'Smart', 'Mitsubishi', 'BMW', 'Fisker', 'Scion', 'FIAT', 'Porsche',\n",
       "       'Kia', 'Mercedes-Benz', 'Volkswagen', 'Cadillac', 'McLaren',\n",
       "       'Hyundai', 'Volvo', 'Audi', 'Chrysler', 'Karma', 'Jaguar',\n",
       "       'Land Rover', 'Subaru', 'Lincoln', 'Polestar', 'Bentley', 'Lucid',\n",
       "       'Mazda', 'Rivian', 'Ferrari', 'Jeep', 'Genesis', 'GMC',\n",
       "       'Toyota/Subaru', 'Lexus'], dtype=object)"
      ]
     },
     "execution_count": 54,
     "metadata": {},
     "output_type": "execute_result"
    }
   ],
   "source": [
    "sales.MAKE.unique()"
   ]
  },
  {
   "cell_type": "code",
   "execution_count": 79,
   "metadata": {},
   "outputs": [],
   "source": [
    "def tesla(x):\n",
    "    if x.MAKE.lower() == 'tesla':\n",
    "        return 'Tesla'\n",
    "    \n",
    "    else:\n",
    "        return 'Not Tesla'"
   ]
  },
  {
   "cell_type": "code",
   "execution_count": 80,
   "metadata": {},
   "outputs": [],
   "source": [
    "sales['Tesla'] = sales.apply(tesla, axis=1)"
   ]
  },
  {
   "cell_type": "code",
   "execution_count": 81,
   "metadata": {},
   "outputs": [],
   "source": [
    "sales_by_tesla = sales.groupby('Tesla')['Number of Vehicles'].sum().sort_values(ascending=False)"
   ]
  },
  {
   "cell_type": "code",
   "execution_count": 82,
   "metadata": {},
   "outputs": [
    {
     "data": {
      "text/plain": [
       "Tesla\n",
       "Not Tesla    764551\n",
       "Tesla        635362\n",
       "Name: Number of Vehicles, dtype: int64"
      ]
     },
     "execution_count": 82,
     "metadata": {},
     "output_type": "execute_result"
    }
   ],
   "source": [
    "sales_by_tesla"
   ]
  },
  {
   "cell_type": "code",
   "execution_count": 106,
   "metadata": {},
   "outputs": [
    {
     "data": {
      "image/png": "[encoded data removed]",
      "text/plain": [
       "<Figure size 640x480 with 1 Axes>"
      ]
     },
     "metadata": {},
     "output_type": "display_data"
    }
   ],
   "source": [
    "ax = sns.barplot(x=sales_by_tesla.index, y=sales_by_tesla).set(xlabel='', title='EV Sales of Tesla vs. Non-Tesla Makes')\n",
    "plt.show()"
   ]
  },
  {
   "cell_type": "code",
   "execution_count": 61,
   "metadata": {},
   "outputs": [
    {
     "data": {
      "text/plain": [
       "MAKE\n",
       "Tesla            635362\n",
       "Chevrolet        151427\n",
       "Toyota           120553\n",
       "BMW               92043\n",
       "Ford              71657\n",
       "Nissan            61292\n",
       "Hyundai           30396\n",
       "FIAT              29815\n",
       "Honda             28856\n",
       "Kia               26012\n",
       "Volkswagen        25770\n",
       "Audi              22423\n",
       "Volvo             19574\n",
       "Mercedes-Benz     14095\n",
       "Chrysler          13396\n",
       "Jeep              11836\n",
       "Porsche            9849\n",
       "Smart              5059\n",
       "Subaru             4802\n",
       "Polestar           4546\n",
       "Rivian             4439\n",
       "MINI               3340\n",
       "Mitsubishi         3309\n",
       "Jaguar             1996\n",
       "Lexus              1909\n",
       "Lincoln            1122\n",
       "Land Rover          927\n",
       "Genesis             921\n",
       "Cadillac            699\n",
       "Lucid               667\n",
       "Mazda               458\n",
       "Toyota/Subaru       440\n",
       "Fisker              371\n",
       "Ferrari             131\n",
       "Karma               118\n",
       "GMC                 111\n",
       "Scion                92\n",
       "Bentley              73\n",
       "McLaren              27\n",
       "Name: Number of Vehicles, dtype: int64"
      ]
     },
     "execution_count": 61,
     "metadata": {},
     "output_type": "execute_result"
    }
   ],
   "source": [
    "sales_by_make = sales.groupby('MAKE')['Number of Vehicles'].sum().sort_values(ascending=False)\n",
    "sales_by_make"
   ]
  },
  {
   "cell_type": "code",
   "execution_count": 59,
   "metadata": {},
   "outputs": [
    {
     "data": {
      "text/plain": [
       "BMW              1831\n",
       "Tesla            1387\n",
       "Ford             1299\n",
       "Chevrolet        1148\n",
       "Toyota           1114\n",
       "Hyundai          1023\n",
       "Kia               831\n",
       "Volvo             786\n",
       "Audi              715\n",
       "Honda             679\n",
       "Mercedes-Benz     618\n",
       "Nissan            535\n",
       "Porsche           525\n",
       "Volkswagen        382\n",
       "FIAT              284\n",
       "Chrysler          261\n",
       "MINI              248\n",
       "Mitsubishi        246\n",
       "Smart             223\n",
       "Subaru            175\n",
       "Lincoln           150\n",
       "Land Rover        144\n",
       "Jeep              140\n",
       "Cadillac          131\n",
       "Jaguar            129\n",
       "Rivian            105\n",
       "Polestar           94\n",
       "Mazda              48\n",
       "Genesis            47\n",
       "Lucid              45\n",
       "Lexus              42\n",
       "Ferrari            38\n",
       "Fisker             38\n",
       "Toyota/Subaru      38\n",
       "Karma              34\n",
       "GMC                22\n",
       "Bentley            20\n",
       "McLaren            14\n",
       "Scion               2\n",
       "Name: MAKE, dtype: int64"
      ]
     },
     "execution_count": 59,
     "metadata": {},
     "output_type": "execute_result"
    }
   ],
   "source": []
  },
  {
   "cell_type": "code",
   "execution_count": null,
   "metadata": {},
   "outputs": [],
   "source": []
  }
 ],
 "metadata": {
  "kernelspec": {
   "display_name": "base",
   "language": "python",
   "name": "python3"
  },
  "language_info": {
   "codemirror_mode": {
    "name": "ipython",
    "version": 3
   },
   "file_extension": ".py",
   "mimetype": "text/x-python",
   "name": "python",
   "nbconvert_exporter": "python",
   "pygments_lexer": "ipython3",
   "version": "3.8.3"
  },
  "orig_nbformat": 4,
  "vscode": {
   "interpreter": {
    "hash": "434f2d4492ee23c6b54d5d95fb30abd565c5424b4769cc63277e86306b83f2fa"
   }
  }
 },
 "nbformat": 4,
 "nbformat_minor": 2
}
